{
 "cells": [
  {
   "cell_type": "markdown",
   "metadata": {},
   "source": [
    "# Train"
   ]
  },
  {
   "cell_type": "code",
   "execution_count": null,
   "metadata": {},
   "outputs": [
    {
     "name": "stdout",
     "output_type": "stream",
     "text": [
      "20-Feb-20 16:57:40 |  training.py, line 101  | Using device: cuda\n",
      "20-Feb-20 16:57:43 |     model.py, line 22   | Loaded model from file: ..\\models\\test.pt\n",
      "20-Feb-20 16:57:43 |      data.py, line 22   | loaded annotations from file: '..\\data\\annotation.csv'\n",
      "20-Feb-20 16:57:43 |      data.py, line 58   | loaded dataset with 1920 train-samples and 480 test-samples\n",
      "20-Feb-20 16:57:43 |  training.py, line 30   | Epoch: 13/22\n",
      "training:  98% |##################################################################################################1 | 157/160 | time elapsed: 01:10, time remaining: 00:01,  2.39batches/s | epoch: 13 | loss: 0.05 | accuracy: 98.46% "
     ]
    }
   ],
   "source": [
    "from src.core.training import start_training\n",
    "\n",
    "start_training()"
   ]
  },
  {
   "cell_type": "markdown",
   "metadata": {
    "pycharm": {
     "is_executing": false
    }
   },
   "source": [
    "# Create dataset annotation"
   ]
  },
  {
   "cell_type": "code",
   "execution_count": null,
   "metadata": {},
   "outputs": [],
   "source": [
    "from src.core.data import generate_csv\n",
    "\n",
    "generate_csv()"
   ]
  },
  {
   "cell_type": "code",
   "execution_count": null,
   "metadata": {},
   "outputs": [],
   "source": []
  }
 ],
 "metadata": {
  "kernelspec": {
   "display_name": "Python 3",
   "language": "python",
   "name": "python3"
  },
  "language_info": {
   "codemirror_mode": {
    "name": "ipython",
    "version": 3
   },
   "file_extension": ".py",
   "mimetype": "text/x-python",
   "name": "python",
   "nbconvert_exporter": "python",
   "pygments_lexer": "ipython3",
   "version": "3.7.6"
  }
 },
 "nbformat": 4,
 "nbformat_minor": 4
}
